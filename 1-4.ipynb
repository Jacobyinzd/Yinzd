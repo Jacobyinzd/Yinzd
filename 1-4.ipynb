{
 "cells": [
  {
   "cell_type": "code",
   "execution_count": 2,
   "id": "b0aa7510-fd0f-4af9-9c4d-a334c9eee96d",
   "metadata": {
    "tags": []
   },
   "outputs": [],
   "source": [
    "# -*- coding: utf-8 -*-\n",
    "import numpy as np\n",
    "from scipy.stats import norm\n",
    "import matplotlib.pyplot as plt\n",
    "import pandas as pd\n",
    "from scipy.optimize import brentq\n",
    "\n",
    "np.random.seed(1) # random number seed\n",
    "\n",
    "S0    = 100\n",
    "r     = 0.02\n",
    "T     = 1\n",
    "sigma = 0.2\n",
    "K     = 100\n",
    "N     = 10000\n",
    "days  = 252\n",
    "q     = 0"
   ]
  },
  {
   "cell_type": "code",
   "execution_count": 3,
   "id": "2fd21b86-5a32-4f69-ab25-a61b9def3f08",
   "metadata": {
    "tags": []
   },
   "outputs": [
    {
     "data": {
      "text/plain": [
       "0.031901849003016736"
      ]
     },
     "execution_count": 3,
     "metadata": {},
     "output_type": "execute_result"
    }
   ],
   "source": [
    "\n",
    "\n",
    "# def CIW_barrier(S0,K,r,sigma,N,T,sig):\n",
    "#     np.random.seed(1)\n",
    "#     dt = T/252\n",
    "#     logS_matrix = np.zeros((int(N), 253), dtype=np.float32)\n",
    "#     logS_matrix[:,0] = np.log(S0)\n",
    "#     logS_std_day = sigma * np.sqrt(dt)\n",
    "\n",
    "#     # build 10000 stock paths in 252 days \n",
    "#     for day in range(1,253):\n",
    "#         logS_matrix[:,day] = np.random.normal(logS_matrix[:,day-1]+(r - 0.5 * sigma**2) * dt, logS_std_day)\n",
    "\n",
    "#     #build Stockprice Matrix\n",
    "#     S_matrix = np.exp(logS_matrix)\n",
    "\n",
    "#     # find the path including 150\n",
    "#     rows_greater_than_150 = np.where(np.any(S_matrix >= 150, axis=1))[0].tolist()\n",
    "\n",
    "#     payoff_matrix = np.exp(-r*T) * np.maximum(K - np.exp(logS_matrix[:,-1]), 0)\n",
    "#     payoff_matrix[rows_greater_than_150] = 0\n",
    "\n",
    "#     price_barrier_option = payoff_matrix.mean()\n",
    "#     price_barrier_option_std = payoff_matrix.std()\n",
    "\n",
    "#     CI_barrier_u =  (price_barrier_option + norm.ppf(1-(1-sig)/2)*price_barrier_option_std/np.sqrt(N))\n",
    "#     CI_barrier_l =  (price_barrier_option - norm.ppf(1-(1-sig)/2)*price_barrier_option_std/np.sqrt(N))\n",
    "#     return CI_barrier_u - CI_barrier_l\n",
    "# N= 1000000\n",
    "# CIW_barrier(S0=100,K=100,r=0.02,sigma=0.2,N=N,T=1,sig=0.9)"
   ]
  },
  {
   "cell_type": "code",
   "execution_count": null,
   "id": "8004204f-7d46-4172-887d-223b652a25b4",
   "metadata": {
    "tags": []
   },
   "outputs": [],
   "source": [
    "# def CIW_EU_year(S0,K,r,sigma,N,T):\n",
    "    np.random.seed(1)\n",
    "    logS_mean = np.log(S0) + (r - 0.5*sigma**2) * T\n",
    "    logS_std = sigma * np.sqrt(T)\n",
    "\n",
    "    # Simulate Nx1 normal RVs\n",
    "    logST = np.random.normal(logS_mean, logS_std, N)\n",
    "\n",
    "    # Payoff of PUT for each simulation, and discounted to t=0\n",
    "    payoff_vector = np.exp(-r*T) * np.maximum(K - np.exp(logST), 0)\n",
    "\n",
    "    # GET the average as the value of PUT\n",
    "    Put_price = np.mean(payoff_vector)\n",
    "\n",
    "    # Calculate the confidence interval\n",
    "    sig_payoff = np.std(payoff_vector)\n",
    "    CI_Put_U = (Put_price + norm.ppf(0.95)*sig_payoff/np.sqrt(N))\n",
    "    CI_Put_L = (Put_price - norm.ppf(0.95)*sig_payoff/np.sqrt(N))\n",
    "    width = CI_Put_U - CI_Put_L\n",
    "    return width\n",
    "\n",
    "CIW_EU_year(S0,K,r,sigma,N,T)"
   ]
  },
  {
   "cell_type": "code",
   "execution_count": null,
   "id": "19d7a1c9-bbc9-436f-bd4b-0c0f3905f6f0",
   "metadata": {
    "tags": []
   },
   "outputs": [],
   "source": [
    "# # def CIW_EU_year(S0,K,r,sigma,N,T):\n",
    "#     np.random.seed(1)\n",
    "#     logS_mean = np.log(S0) + (r - 0.5*sigma**2) * T\n",
    "#     logS_std = sigma * np.sqrt(T)\n",
    "\n",
    "#     # Simulate Nx1 normal RVs\n",
    "#     logST = np.random.normal(logS_mean, logS_std, N)\n",
    "\n",
    "#     # Payoff of PUT for each simulation, and discounted to t=0\n",
    "#     payoff_vector = np.exp(-r*T) * np.maximum(K - np.exp(logST), 0)\n",
    "\n",
    "#     # GET the average as the value of PUT\n",
    "#     Put_price = np.mean(payoff_vector)\n",
    "\n",
    "#     # Calculate the confidence interval\n",
    "#     sig_payoff = np.std(payoff_vector)\n",
    "#     CI_Put_U = (Put_price + norm.ppf(0.95)*sig_payoff/np.sqrt(N))\n",
    "#     CI_Put_L = (Put_price - norm.ppf(0.95)*sig_payoff/np.sqrt(N))\n",
    "#     width = CI_Put_U - CI_Put_L\n",
    "#     return width\n",
    "\n",
    "# CIW_EU_year(S0,K,r,sigma,N,T)"
   ]
  },
  {
   "cell_type": "code",
   "execution_count": 7,
   "id": "4998b91b-132c-484d-b688-4533ed1d0d4a",
   "metadata": {
    "tags": []
   },
   "outputs": [
    {
     "data": {
      "text/plain": [
       "10183089"
      ]
     },
     "execution_count": 7,
     "metadata": {},
     "output_type": "execute_result"
    }
   ],
   "source": [
    "def minimum_N_EU_year(S0,K,r,sigma,N,T,C):\n",
    "    def objective(N):\n",
    "        return CIW_EU_year(S0,K,r,sigma,int(N),T) - C\n",
    "    return brentq(objective,10000000,15000000)\n",
    "\n",
    "int(minimum_N_EU_year(S0,K,r,sigma,N,T,C=0.01))"
   ]
  },
  {
   "cell_type": "code",
   "execution_count": 15,
   "id": "2669ba2c-1e6e-4ebe-90f6-0395dee8b6dc",
   "metadata": {
    "tags": []
   },
   "outputs": [],
   "source": [
    "def CIW_AV_year(S0,K,r,sigma,N,T):\n",
    "    np.random.seed(1)\n",
    "    logS_mean = np.log(S0) + (r - 0.5*sigma**2) * T\n",
    "    logS_std = sigma * np.sqrt(T)\n",
    "    X = np.random.normal(0, logS_std, N)\n",
    "    \n",
    "    logS1 = logS_mean + X\n",
    "    logS2 = logS_mean - X\n",
    "    payoff_vector_av = 0.5 * (np.maximum(K - np.exp(logS1), 0) + np.maximum(K - np.exp(logS2), 0))\n",
    "\n",
    "    # mean\n",
    "    Put_av = (np.exp(-r*T) * np.mean(payoff_vector_av))\n",
    "\n",
    "    #standard deviation\n",
    "    sigv_av = np.std(payoff_vector_av)\n",
    "\n",
    "    #Confidence Interval\n",
    "    CI_av_U = (Put_av + norm.ppf(0.95)*sigv_av/np.sqrt(N))\n",
    "    CI_av_L = (Put_av - norm.ppf(0.95)*sigv_av/np.sqrt(N))\n",
    "    \n",
    "    width = CI_av_U - CI_av_L\n",
    "    return width"
   ]
  },
  {
   "cell_type": "code",
   "execution_count": 17,
   "id": "5fdf16ed-94aa-4313-b1a9-cc25a43be87a",
   "metadata": {
    "tags": []
   },
   "outputs": [
    {
     "data": {
      "text/plain": [
       "2589155"
      ]
     },
     "execution_count": 17,
     "metadata": {},
     "output_type": "execute_result"
    }
   ],
   "source": [
    "def minimum_N_AV_year(S0,K,r,sigma,N,T,C):\n",
    "    def objective(N):\n",
    "        return CIW_AV_year(S0,K,r,sigma,int(N),T) - C\n",
    "    return brentq(objective,1000000,10000000)\n",
    "\n",
    "int(minimum_N_AV_year(S0,K,r,sigma,N,T,C=0.01))"
   ]
  },
  {
   "cell_type": "code",
   "execution_count": null,
   "id": "6f9cb770-de04-4d29-b6e1-cd97d16052c2",
   "metadata": {},
   "outputs": [],
   "source": []
  }
 ],
 "metadata": {
  "kernelspec": {
   "display_name": "Python 3 (ipykernel)",
   "language": "python",
   "name": "python3"
  },
  "language_info": {
   "codemirror_mode": {
    "name": "ipython",
    "version": 3
   },
   "file_extension": ".py",
   "mimetype": "text/x-python",
   "name": "python",
   "nbconvert_exporter": "python",
   "pygments_lexer": "ipython3",
   "version": "3.11.5"
  }
 },
 "nbformat": 4,
 "nbformat_minor": 5
}
